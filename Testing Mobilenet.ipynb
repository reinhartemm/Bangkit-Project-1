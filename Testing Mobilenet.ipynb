{
 "cells": [
  {
   "cell_type": "code",
   "execution_count": 17,
   "metadata": {},
   "outputs": [
    {
     "name": "stdout",
     "output_type": "stream",
     "text": [
      "^C\n"
     ]
    }
   ],
   "source": [
    "! pip uninstall scikit-learn\n"
   ]
  },
  {
   "cell_type": "code",
   "execution_count": 30,
   "metadata": {},
   "outputs": [],
   "source": [
    "import tensorflow as tf\n",
    "import scipy\n",
    "from tensorflow.keras.preprocessing.image import ImageDataGenerator\n",
    "\n",
    "import numpy as np\n"
   ]
  },
  {
   "cell_type": "code",
   "execution_count": 10,
   "metadata": {},
   "outputs": [],
   "source": [
    "train_dir= './data/train/'\n",
    "val_dir='./Data/validation/'\n",
    "test_dir='./Data/test/'"
   ]
  },
  {
   "cell_type": "code",
   "execution_count": 3,
   "metadata": {},
   "outputs": [
    {
     "name": "stdout",
     "output_type": "stream",
     "text": [
      "Found 3115 images belonging to 36 classes.\n",
      "Found 351 images belonging to 36 classes.\n",
      "Found 359 images belonging to 36 classes.\n"
     ]
    }
   ],
   "source": [
    "train_datagen = ImageDataGenerator(rescale = 1./255.)\n",
    "test_datagen = ImageDataGenerator( rescale = 1.0/255. )\n",
    "\n",
    "train_generator = train_datagen.flow_from_directory(train_dir,shuffle=True,\n",
    "                                                    batch_size = 32,\n",
    "                                                    class_mode = 'categorical', \n",
    "                                                    target_size = (224,224))     \n",
    "val_generator=test_datagen.flow_from_directory(val_dir,\n",
    "                                               batch_size=32,\n",
    "                                               class_mode='categorical',\n",
    "                                               target_size=(224,224))\n",
    "test_generator=test_datagen.flow_from_directory(test_dir,\n",
    "                                               batch_size=32,\n",
    "                                               class_mode='categorical',\n",
    "                                               target_size=(224,224))\n",
    "\n"
   ]
  },
  {
   "cell_type": "code",
   "execution_count": 4,
   "metadata": {},
   "outputs": [],
   "source": [
    "pretrained_model = tf.keras.applications.MobileNetV2(\n",
    "    input_shape=(224, 224, 3),\n",
    "    include_top=False,\n",
    "    weights='imagenet',\n",
    "    pooling='avg'\n",
    ")\n",
    "pretrained_model.trainable = False\n"
   ]
  },
  {
   "cell_type": "code",
   "execution_count": 5,
   "metadata": {},
   "outputs": [
    {
     "name": "stdout",
     "output_type": "stream",
     "text": [
      "Epoch 1/5\n",
      " 8/98 [=>............................] - ETA: 3:40 - loss: 3.4288 - accuracy: 0.1367"
     ]
    },
    {
     "name": "stderr",
     "output_type": "stream",
     "text": [
      "C:\\Users\\HP\\AppData\\Local\\Packages\\PythonSoftwareFoundation.Python.3.7_qbz5n2kfra8p0\\LocalCache\\local-packages\\Python37\\site-packages\\PIL\\Image.py:993: UserWarning: Palette images with Transparency expressed in bytes should be converted to RGBA images\n",
      "  \"Palette images with Transparency expressed in bytes should be \"\n"
     ]
    },
    {
     "name": "stdout",
     "output_type": "stream",
     "text": [
      "98/98 [==============================] - 296s 3s/step - loss: 1.4973 - accuracy: 0.5820 - val_loss: 0.4199 - val_accuracy: 0.8746\n",
      "Epoch 2/5\n",
      "98/98 [==============================] - 266s 3s/step - loss: 0.5130 - accuracy: 0.8331 - val_loss: 0.2809 - val_accuracy: 0.9231\n",
      "Epoch 3/5\n",
      "98/98 [==============================] - 246s 3s/step - loss: 0.2897 - accuracy: 0.9030 - val_loss: 0.2140 - val_accuracy: 0.9402\n",
      "Epoch 4/5\n",
      "98/98 [==============================] - 252s 3s/step - loss: 0.1750 - accuracy: 0.9441 - val_loss: 0.1943 - val_accuracy: 0.9430\n",
      "Epoch 5/5\n",
      "98/98 [==============================] - 235s 2s/step - loss: 0.1222 - accuracy: 0.9586 - val_loss: 0.1822 - val_accuracy: 0.9487\n"
     ]
    }
   ],
   "source": [
    "inputs=pretrained_model.input\n",
    "x=tf.keras.layers.Dense(256,activation='relu')(pretrained_model.output)\n",
    "x=tf.keras.layers.Dense(128,activation='relu')(x)\n",
    "outputs=tf.keras.layers.Dense(36,activation='softmax')(x)\n",
    "\n",
    "model=tf.keras.Model(inputs=inputs,outputs=outputs)\n",
    "\n",
    "model.compile(optimizer='adam',\n",
    "              loss='categorical_crossentropy',\n",
    "              metrics=['accuracy'])\n",
    "\n",
    "history = model.fit(train_generator,\n",
    "    validation_data=val_generator,\n",
    "    batch_size = 32,\n",
    "    epochs=5)\n",
    "\n"
   ]
  },
  {
   "cell_type": "code",
   "execution_count": 43,
   "metadata": {},
   "outputs": [
    {
     "name": "stderr",
     "output_type": "stream",
     "text": [
      "C:\\Users\\HP\\AppData\\Local\\Packages\\PythonSoftwareFoundation.Python.3.7_qbz5n2kfra8p0\\LocalCache\\local-packages\\Python37\\site-packages\\ipykernel_launcher.py:1: UserWarning: `Model.evaluate_generator` is deprecated and will be removed in a future version. Please use `Model.evaluate`, which supports generators.\n",
      "  \"\"\"Entry point for launching an IPython kernel.\n"
     ]
    }
   ],
   "source": [
    "evaluate=model.evaluate_generator(test_generator)\n",
    "accuracy_score=evaluate[1]*100"
   ]
  },
  {
   "cell_type": "code",
   "execution_count": 46,
   "metadata": {},
   "outputs": [
    {
     "name": "stdout",
     "output_type": "stream",
     "text": [
      "94.98607516288757\n"
     ]
    }
   ],
   "source": [
    "print(accuracy_score)"
   ]
  }
 ],
 "metadata": {
  "kernelspec": {
   "display_name": "Python 3",
   "language": "python",
   "name": "python3"
  },
  "language_info": {
   "codemirror_mode": {
    "name": "ipython",
    "version": 3
   },
   "file_extension": ".py",
   "mimetype": "text/x-python",
   "name": "python",
   "nbconvert_exporter": "python",
   "pygments_lexer": "ipython3",
   "version": "3.7.9"
  },
  "orig_nbformat": 4
 },
 "nbformat": 4,
 "nbformat_minor": 2
}
